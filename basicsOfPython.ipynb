{
  "nbformat": 4,
  "nbformat_minor": 0,
  "metadata": {
    "colab": {
      "provenance": [],
      "authorship_tag": "ABX9TyOD6XHBT7bnFYPYsQl3CAnj",
      "include_colab_link": true
    },
    "kernelspec": {
      "name": "python3",
      "display_name": "Python 3"
    },
    "language_info": {
      "name": "python"
    }
  },
  "cells": [
    {
      "cell_type": "markdown",
      "metadata": {
        "id": "view-in-github",
        "colab_type": "text"
      },
      "source": [
        "<a href=\"https://colab.research.google.com/github/Sinchiguano/ai2023_2/blob/main/basicsOfPython.ipynb\" target=\"_parent\"><img src=\"https://colab.research.google.com/assets/colab-badge.svg\" alt=\"Open In Colab\"/></a>"
      ]
    },
    {
      "cell_type": "code",
      "execution_count": null,
      "metadata": {
        "colab": {
          "base_uri": "https://localhost:8080/"
        },
        "id": "ZopwmigWSBx4",
        "outputId": "b1db326f-3170-4648-a254-ea71a356763e"
      },
      "outputs": [
        {
          "output_type": "stream",
          "name": "stdout",
          "text": [
            "the number is 1\n",
            "the number is 4\n",
            "the number is 7\n",
            "the number is 10\n"
          ]
        }
      ],
      "source": [
        "for i in range(1,13,3):\n",
        "  print('the number is {}'.format(i))"
      ]
    },
    {
      "cell_type": "code",
      "source": [
        "i=0\n",
        "while i < 10:\n",
        "  print(f'the number is {i}')\n",
        "  i=i+1"
      ],
      "metadata": {
        "colab": {
          "base_uri": "https://localhost:8080/"
        },
        "id": "_LFE9DnDSyGr",
        "outputId": "8fafaa85-f243-4b39-d59a-f9e5402a744a"
      },
      "execution_count": null,
      "outputs": [
        {
          "output_type": "stream",
          "name": "stdout",
          "text": [
            "the number is 0\n",
            "the number is 1\n",
            "the number is 2\n",
            "the number is 3\n",
            "the number is 4\n",
            "the number is 5\n",
            "the number is 6\n",
            "the number is 7\n",
            "the number is 8\n",
            "the number is 9\n"
          ]
        }
      ]
    },
    {
      "cell_type": "code",
      "source": [
        "for i in range(1,10):\n",
        "  if i %2==0:\n",
        "    print('even number is {}'.format(i))"
      ],
      "metadata": {
        "colab": {
          "base_uri": "https://localhost:8080/"
        },
        "id": "EBL1iBxTTPWX",
        "outputId": "9bc0ddb6-1165-4efd-84e0-23dc2cbb4402"
      },
      "execution_count": null,
      "outputs": [
        {
          "output_type": "stream",
          "name": "stdout",
          "text": [
            "even number is 2\n",
            "even number is 4\n",
            "even number is 6\n",
            "even number is 8\n"
          ]
        }
      ]
    },
    {
      "cell_type": "code",
      "source": [
        "def my_abs_value(val):\n",
        "  if val < 0:\n",
        "    return 0-val\n",
        "  return val\n",
        "\n",
        "my_number=-23\n",
        "print(my_abs_value(my_number))"
      ],
      "metadata": {
        "colab": {
          "base_uri": "https://localhost:8080/"
        },
        "id": "ThBQY_nbT7CX",
        "outputId": "7543b6b3-bf89-4cdd-d329-d16c0d6fb50f"
      },
      "execution_count": null,
      "outputs": [
        {
          "output_type": "stream",
          "name": "stdout",
          "text": [
            "23\n"
          ]
        }
      ]
    },
    {
      "cell_type": "code",
      "source": [
        "def inc_value(val):\n",
        "  val=val+1\n",
        "\n",
        "x=7\n",
        "print(inc_value(x))\n",
        "print(x)"
      ],
      "metadata": {
        "colab": {
          "base_uri": "https://localhost:8080/"
        },
        "id": "HXnC06NTUj8y",
        "outputId": "0bed6d57-ea2a-4751-8e37-7954806db8c5"
      },
      "execution_count": null,
      "outputs": [
        {
          "output_type": "stream",
          "name": "stdout",
          "text": [
            "None\n",
            "7\n"
          ]
        }
      ]
    },
    {
      "cell_type": "code",
      "source": [
        "def swap_values(value_1,value_2):\n",
        "  tmp=value_1\n",
        "  value_1=value_2\n",
        "  value_2=tmp\n",
        "  return value_1,value_2\n",
        "\n",
        "\n",
        "x=3\n",
        "y=8\n",
        "print('The new value of (x,y) {} '.format((x,y)))\n",
        "print('The new value of (x,y) {} '.format(swap_values(x,y)))\n"
      ],
      "metadata": {
        "id": "ZUIey3MgVInh",
        "colab": {
          "base_uri": "https://localhost:8080/"
        },
        "outputId": "d689c77c-b324-4f0c-f10b-e36370de5d64"
      },
      "execution_count": null,
      "outputs": [
        {
          "output_type": "stream",
          "name": "stdout",
          "text": [
            "The new value of (x,y) (3, 8) \n",
            "The new value of (x,y) (8, 3) \n"
          ]
        }
      ]
    },
    {
      "cell_type": "code",
      "source": [
        "\n",
        "#val=0\n",
        "def my_abs_value(val):\n",
        "  global value\n",
        "  if val<0:\n",
        "    value =0-val\n",
        "    return value\n",
        "\n",
        "print(my_abs_value(-3))\n",
        "\n",
        "print(value)"
      ],
      "metadata": {
        "id": "BrI1HItWUi9Y",
        "colab": {
          "base_uri": "https://localhost:8080/"
        },
        "outputId": "ecb5dd9c-66bf-42ac-969c-d3f71d350b02"
      },
      "execution_count": 6,
      "outputs": [
        {
          "output_type": "stream",
          "name": "stdout",
          "text": [
            "3\n",
            "3\n"
          ]
        }
      ]
    }
  ]
}