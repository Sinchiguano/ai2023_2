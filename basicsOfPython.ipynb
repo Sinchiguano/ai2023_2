{
  "nbformat": 4,
  "nbformat_minor": 0,
  "metadata": {
    "colab": {
      "provenance": [],
      "authorship_tag": "ABX9TyNZ78Mfn++LN5evarg10+JG",
      "include_colab_link": true
    },
    "kernelspec": {
      "name": "python3",
      "display_name": "Python 3"
    },
    "language_info": {
      "name": "python"
    }
  },
  "cells": [
    {
      "cell_type": "markdown",
      "metadata": {
        "id": "view-in-github",
        "colab_type": "text"
      },
      "source": [
        "<a href=\"https://colab.research.google.com/github/Sinchiguano/ai2023_2/blob/main/basicsOfPython.ipynb\" target=\"_parent\"><img src=\"https://colab.research.google.com/assets/colab-badge.svg\" alt=\"Open In Colab\"/></a>"
      ]
    },
    {
      "cell_type": "code",
      "execution_count": null,
      "metadata": {
        "colab": {
          "base_uri": "https://localhost:8080/"
        },
        "id": "7hH0qExZRWP4",
        "outputId": "6d14e51e-ffc3-465b-a9cf-5cda22eeeb9b"
      },
      "outputs": [
        {
          "output_type": "stream",
          "name": "stdout",
          "text": [
            "Python 3.10.12 (main, Jun 11 2023, 05:26:28) [GCC 11.4.0] on linux\n",
            "Type \"help\", \"copyright\", \"credits\" or \"license\" for more information.\n",
            ">>> \n",
            "KeyboardInterrupt\n",
            ">>> \n",
            "KeyboardInterrupt\n",
            ">>> \n",
            "KeyboardInterrupt\n",
            ">>> ^C\n"
          ]
        }
      ],
      "source": [
        "!python --version"
      ]
    },
    {
      "cell_type": "code",
      "source": [
        "myVariable_1=4\n",
        "myVariable_2=6\n",
        "\n",
        "print(myVariable_1+myVariable_2)\n",
        "print(myVariable_1-myVariable_2)\n",
        "print(myVariable_1*myVariable_2)\n",
        "print(myVariable_1**myVariable_2)\n",
        "print(myVariable_1/myVariable_2)\n"
      ],
      "metadata": {
        "colab": {
          "base_uri": "https://localhost:8080/"
        },
        "id": "3j_-fgVvR5mY",
        "outputId": "e338a692-f556-48fb-90fb-da1dc95c9e52"
      },
      "execution_count": null,
      "outputs": [
        {
          "output_type": "stream",
          "name": "stdout",
          "text": [
            "10\n",
            "-2\n",
            "24\n",
            "4096\n",
            "0.6666666666666666\n"
          ]
        }
      ]
    },
    {
      "cell_type": "code",
      "source": [
        "aux1=True\n",
        "aux2=False\n",
        "\n",
        "print(aux1 and aux2)\n",
        "\n",
        "print(aux1 or aux2)\n",
        "print(not aux1)"
      ],
      "metadata": {
        "colab": {
          "base_uri": "https://localhost:8080/"
        },
        "id": "I5caO3YmSvAL",
        "outputId": "f8db2fa1-22b6-4dd3-fae2-9aa80a43dbfa"
      },
      "execution_count": null,
      "outputs": [
        {
          "output_type": "stream",
          "name": "stdout",
          "text": [
            "False\n",
            "True\n",
            "False\n"
          ]
        }
      ]
    },
    {
      "cell_type": "code",
      "source": [
        "myNameIs='Cesar Sinchiguano'\n",
        "print(myNameIs)\n",
        "\n",
        "print(myNameIs.upper())\n",
        "print(myNameIs.lower())"
      ],
      "metadata": {
        "colab": {
          "base_uri": "https://localhost:8080/"
        },
        "id": "qQ9iOewNTaEm",
        "outputId": "1e9d7df3-e4d9-47b6-f3d4-e8cfceab0e3d"
      },
      "execution_count": null,
      "outputs": [
        {
          "output_type": "stream",
          "name": "stdout",
          "text": [
            "Cesar Sinchiguano\n",
            "CESAR SINCHIGUANO\n",
            "cesar sinchiguano\n"
          ]
        }
      ]
    },
    {
      "cell_type": "code",
      "source": [
        "tmp='cesar; carlos; santiago'\n",
        "print(tmp)\n",
        "print(tmp.split(';'))"
      ],
      "metadata": {
        "colab": {
          "base_uri": "https://localhost:8080/"
        },
        "id": "NztZmeM8Uoz6",
        "outputId": "34a1d899-86d3-4c08-b2ff-a001c8fd8702"
      },
      "execution_count": null,
      "outputs": [
        {
          "output_type": "stream",
          "name": "stdout",
          "text": [
            "cesar; carlos; santiago\n",
            "['cesar', ' carlos', ' santiago']\n"
          ]
        }
      ]
    },
    {
      "cell_type": "code",
      "source": [
        "scholarList=['notebook','pen','ruler','eraser','pencil']\n",
        "print(scholarList)\n",
        "scholarList.append('computer')\n",
        "print(scholarList)\n",
        "#print(scholarList[3])\n",
        "#scholarList.pop(3)\n",
        "del scholarList[3]\n",
        "print(scholarList)"
      ],
      "metadata": {
        "colab": {
          "base_uri": "https://localhost:8080/"
        },
        "id": "0Qb8RVEaVq48",
        "outputId": "9adcf38b-ef8c-48b4-eca2-00715f2dd218"
      },
      "execution_count": null,
      "outputs": [
        {
          "output_type": "stream",
          "name": "stdout",
          "text": [
            "['notebook', 'pen', 'ruler', 'eraser', 'pencil']\n",
            "['notebook', 'pen', 'ruler', 'eraser', 'pencil', 'computer']\n",
            "['notebook', 'pen', 'ruler', 'pencil', 'computer']\n"
          ]
        }
      ]
    },
    {
      "cell_type": "code",
      "source": [
        "myList=list(range(15))\n",
        "print(myList)\n",
        "print(myList[4:11])\n",
        "print(myList[-1])"
      ],
      "metadata": {
        "colab": {
          "base_uri": "https://localhost:8080/"
        },
        "id": "rXS2vnSPYzwq",
        "outputId": "8e951587-8a11-4f17-eef8-8361dd27ec54"
      },
      "execution_count": null,
      "outputs": [
        {
          "output_type": "stream",
          "name": "stdout",
          "text": [
            "[0, 1, 2, 3, 4, 5, 6, 7, 8, 9, 10, 11, 12, 13, 14]\n",
            "[4, 5, 6, 7, 8, 9, 10]\n",
            "14\n"
          ]
        }
      ]
    },
    {
      "cell_type": "code",
      "source": [
        "#MONDAY 30 APRIL 2023"
      ],
      "metadata": {
        "id": "izvc1y-4vZIo"
      },
      "execution_count": null,
      "outputs": []
    },
    {
      "cell_type": "code",
      "source": [
        "animals=list()\n",
        "animals.append('dog')\n",
        "animals.append('cat')\n",
        "animals.append('monkey')\n",
        "animals.append('lion')\n",
        "print(animals)\n",
        "#LOOPS\n",
        "for item in animals:\n",
        "  print('{} animal is in my list'.format(item))"
      ],
      "metadata": {
        "colab": {
          "base_uri": "https://localhost:8080/"
        },
        "id": "r7G6EGzLvdN6",
        "outputId": "b3ddbabe-ad99-4512-8907-4e7741ec2431"
      },
      "execution_count": 2,
      "outputs": [
        {
          "output_type": "stream",
          "name": "stdout",
          "text": [
            "['dog', 'cat', 'monkey', 'lion']\n",
            "dog animal is in my list\n",
            "cat animal is in my list\n",
            "monkey animal is in my list\n",
            "lion animal is in my list\n"
          ]
        }
      ]
    },
    {
      "cell_type": "code",
      "source": [
        "for indx, animal in enumerate(animals):\n",
        "  print('%d %s'%(indx, animal))"
      ],
      "metadata": {
        "colab": {
          "base_uri": "https://localhost:8080/"
        },
        "id": "idMeqS2M3wqP",
        "outputId": "25c9426c-47a7-40bf-8878-b77d89350633"
      },
      "execution_count": 6,
      "outputs": [
        {
          "output_type": "stream",
          "name": "stdout",
          "text": [
            "0 dog\n",
            "1 cat\n",
            "2 monkey\n",
            "3 lion\n"
          ]
        }
      ]
    },
    {
      "cell_type": "code",
      "source": [
        "for indx, animal in enumerate(animals):\n",
        "  print('{} {}'.format(indx, animal))"
      ],
      "metadata": {
        "colab": {
          "base_uri": "https://localhost:8080/"
        },
        "id": "PtdrdZdh4RH1",
        "outputId": "adbf38f0-d5ca-4861-d568-ed98d3973674"
      },
      "execution_count": 7,
      "outputs": [
        {
          "output_type": "stream",
          "name": "stdout",
          "text": [
            "0 dog\n",
            "1 cat\n",
            "2 monkey\n",
            "3 lion\n"
          ]
        }
      ]
    },
    {
      "cell_type": "code",
      "source": [
        "numberList=[1,2,3,4,5,6,7,8,9,10]\n",
        "print(numberList)\n",
        "emptyList=list()\n",
        "for i in numberList:\n",
        "  emptyList.append(i)\n",
        "\n",
        "aux=[i**2 for i in range(1,11)]\n",
        "print(aux)"
      ],
      "metadata": {
        "colab": {
          "base_uri": "https://localhost:8080/"
        },
        "id": "RiUgq2eL4dQx",
        "outputId": "843cd598-53a5-4a9b-884f-73de2dac48a4"
      },
      "execution_count": 37,
      "outputs": [
        {
          "output_type": "stream",
          "name": "stdout",
          "text": [
            "[1, 2, 3, 4, 5, 6, 7, 8, 9, 10]\n",
            "[1, 4, 9, 16, 25, 36, 49, 64, 81, 100]\n"
          ]
        }
      ]
    },
    {
      "cell_type": "code",
      "source": [
        "numberList1=[ i for i in range(0,10)]\n",
        "print(numberList1)"
      ],
      "metadata": {
        "colab": {
          "base_uri": "https://localhost:8080/"
        },
        "id": "8Kvzq2HL4sRf",
        "outputId": "730dfe51-a212-4928-85f7-a5e4621f911e"
      },
      "execution_count": 30,
      "outputs": [
        {
          "output_type": "stream",
          "name": "stdout",
          "text": [
            "[0, 1, 2, 3, 4, 5, 6, 7, 8, 9]\n"
          ]
        }
      ]
    },
    {
      "cell_type": "code",
      "source": [
        "squareList=[number**2 for number in numberList1]\n",
        "print(squareList)"
      ],
      "metadata": {
        "colab": {
          "base_uri": "https://localhost:8080/"
        },
        "id": "C4EosR6h6L_2",
        "outputId": "c312d56c-cd26-497b-a77a-1c373f7dc16c"
      },
      "execution_count": 29,
      "outputs": [
        {
          "output_type": "stream",
          "name": "stdout",
          "text": [
            "[0, 1, 4, 9, 16, 25, 36, 49, 64, 81]\n"
          ]
        }
      ]
    },
    {
      "cell_type": "code",
      "source": [
        "#EVEN NUMBER\n",
        "evenNumber=[ i for i in range(1,11) if i%2==0]\n",
        "print(evenNumber)"
      ],
      "metadata": {
        "colab": {
          "base_uri": "https://localhost:8080/"
        },
        "id": "JPX3ND8U-nm7",
        "outputId": "adb260a5-92ea-493e-91c3-a5209077392b"
      },
      "execution_count": 41,
      "outputs": [
        {
          "output_type": "stream",
          "name": "stdout",
          "text": [
            "[2, 4, 6, 8, 10]\n"
          ]
        }
      ]
    },
    {
      "cell_type": "code",
      "source": [
        "# DICTIONARIES\n",
        "# A DICTIONARY SAVE TWO VALUES KEY AND VALUE PAIRS.\n",
        "myDictionary={'cat':'cute','dog':'small','lion':'strong'}\n",
        "print(myDictionary)\n",
        "\n",
        "print(myDictionary['cat'])\n",
        "for key in myDictionary:\n",
        "  # print(key)\n",
        "  print('The key {}, the value {}'.format(key,myDictionary[key]))\n"
      ],
      "metadata": {
        "colab": {
          "base_uri": "https://localhost:8080/"
        },
        "id": "YshnAJJd-8oZ",
        "outputId": "9dd9733a-2ec7-49f1-9299-c57dd3997c50"
      },
      "execution_count": 49,
      "outputs": [
        {
          "output_type": "stream",
          "name": "stdout",
          "text": [
            "{'cat': 'cute', 'dog': 'small', 'lion': 'strong'}\n",
            "cute\n",
            "The key cat, the value cute\n",
            "The key dog, the value small\n",
            "The key lion, the value strong\n"
          ]
        }
      ]
    },
    {
      "cell_type": "code",
      "source": [
        "\n",
        "auxValue=()\n",
        "for animal in myDictionary:\n",
        "  auxValue=myDictionary[animal]\n",
        "  print(f'the values is {auxValue} and the key is {animal}')\n"
      ],
      "metadata": {
        "colab": {
          "base_uri": "https://localhost:8080/"
        },
        "id": "vTalkBopFI30",
        "outputId": "401bc49d-316d-4dc2-ded7-ab7518a2fde1"
      },
      "execution_count": 50,
      "outputs": [
        {
          "output_type": "stream",
          "name": "stdout",
          "text": [
            "the values is cute and the key is cat\n",
            "the values is small and the key is dog\n",
            "the values is strong and the key is lion\n"
          ]
        }
      ]
    },
    {
      "cell_type": "code",
      "source": [
        "for key in myDictionary:\n",
        "  print('%s %s'%(key, myDictionary[key]))"
      ],
      "metadata": {
        "colab": {
          "base_uri": "https://localhost:8080/"
        },
        "id": "a7lIfgdtG-Fz",
        "outputId": "bbae6a68-2f1d-48dc-9319-9a0fb1607807"
      },
      "execution_count": 52,
      "outputs": [
        {
          "output_type": "stream",
          "name": "stdout",
          "text": [
            "cat cute\n",
            "dog small\n",
            "lion strong\n"
          ]
        }
      ]
    },
    {
      "cell_type": "code",
      "source": [
        "for key, value in myDictionary.items():\n",
        "  print(f'key: {key} and value: {value}')\n"
      ],
      "metadata": {
        "colab": {
          "base_uri": "https://localhost:8080/"
        },
        "id": "h-JY-w_1Hxmr",
        "outputId": "7c13f8f1-7bb0-4185-e86c-f7c4c74bee23"
      },
      "execution_count": 54,
      "outputs": [
        {
          "output_type": "stream",
          "name": "stdout",
          "text": [
            "key: cat and value: cute\n",
            "key: dog and value: small\n",
            "key: lion and value: strong\n"
          ]
        }
      ]
    },
    {
      "cell_type": "code",
      "source": [
        "#DICTIONARY COMPREHENSIONS\n",
        "auxDictionary={ i:i**2 for i in range(6) if i%2==0  }\n",
        "for key, value in auxDictionary.items():\n",
        "  print('%d:%d'%(key, value))"
      ],
      "metadata": {
        "colab": {
          "base_uri": "https://localhost:8080/"
        },
        "id": "2lYWxxdGICwE",
        "outputId": "8ed85518-3a61-4039-f0a3-0882418dab00"
      },
      "execution_count": 69,
      "outputs": [
        {
          "output_type": "stream",
          "name": "stdout",
          "text": [
            "0:0\n",
            "2:4\n",
            "4:16\n"
          ]
        }
      ]
    },
    {
      "cell_type": "code",
      "source": [
        "#SET\n",
        "# LET YOU SAVE UNIQUE VALUES\n",
        "\n",
        "mySet={i for i in range(10)}\n",
        "for item in mySet:\n",
        "  print(item)\n",
        "\n",
        "print(2 in mySet)\n",
        "mySet.add(2)\n",
        "mySet.add(11)\n",
        "print(mySet)\n",
        "mySet.remove(3)\n",
        "print(mySet)\n",
        "print(3 in mySet)"
      ],
      "metadata": {
        "colab": {
          "base_uri": "https://localhost:8080/"
        },
        "id": "A5N_OCByKAg9",
        "outputId": "4d9be8af-53e5-4bf0-d841-a47aac25231e"
      },
      "execution_count": 81,
      "outputs": [
        {
          "output_type": "stream",
          "name": "stdout",
          "text": [
            "0\n",
            "1\n",
            "2\n",
            "3\n",
            "4\n",
            "5\n",
            "6\n",
            "7\n",
            "8\n",
            "9\n",
            "True\n",
            "{0, 1, 2, 3, 4, 5, 6, 7, 8, 9, 11}\n",
            "{0, 1, 2, 4, 5, 6, 7, 8, 9, 11}\n",
            "False\n"
          ]
        }
      ]
    },
    {
      "cell_type": "code",
      "source": [
        "mySet={i for i in range(10)}\n",
        "print(mySet)\n",
        "\n",
        "for i in mySet:\n",
        "  print(f'{i}')"
      ],
      "metadata": {
        "colab": {
          "base_uri": "https://localhost:8080/"
        },
        "id": "Jy3gocviNjVr",
        "outputId": "f887d3a0-e986-4791-a3fb-ad376f79a476"
      },
      "execution_count": 92,
      "outputs": [
        {
          "output_type": "stream",
          "name": "stdout",
          "text": [
            "{0, 1, 2, 3, 4, 5, 6, 7, 8, 9}\n",
            "0\n",
            "1\n",
            "2\n",
            "3\n",
            "4\n",
            "5\n",
            "6\n",
            "7\n",
            "8\n",
            "9\n"
          ]
        }
      ]
    },
    {
      "cell_type": "code",
      "source": [
        "#TUPLES\n",
        "# A TUPLE IS AN IMMUTABLE ORDERED LIST OF VALUES\n",
        "tmp=1,2,3,4,5\n",
        "aux=(1,2,3,4,5,6,7)\n",
        "print(tmp)\n",
        "print(type(tmp))\n",
        "print(type(aux))\n",
        "print(len(aux))\n",
        "position=1,2,3\n",
        "x,y,z=position\n",
        "print(f'{x},{y},{z}')\n"
      ],
      "metadata": {
        "colab": {
          "base_uri": "https://localhost:8080/"
        },
        "id": "XCbaBq9rOBIl",
        "outputId": "7300e62e-3fd9-4cb0-f92e-090b8af8e244"
      },
      "execution_count": 102,
      "outputs": [
        {
          "output_type": "stream",
          "name": "stdout",
          "text": [
            "(1, 2, 3, 4, 5)\n",
            "<class 'tuple'>\n",
            "<class 'tuple'>\n",
            "7\n",
            "1,2,3\n"
          ]
        }
      ]
    },
    {
      "cell_type": "code",
      "source": [
        "#FUNCTIONS\n",
        "def sign(tmp):\n",
        "  if tmp<0:\n",
        "    print('NEGATIVE ')\n",
        "  else:\n",
        "    print('POSITIVE ')\n",
        "\n",
        "\n",
        "\n",
        "import random\n",
        "myList=[random.choice([1,-1])* i for i in range(1,11)]\n",
        "for i in myList:\n",
        "  # print(f'{i}')\n",
        "  sign(myList[i])\n",
        "\n",
        "print(random.choice([True,False]))\n",
        "\n"
      ],
      "metadata": {
        "colab": {
          "base_uri": "https://localhost:8080/"
        },
        "id": "d_T_Vy9rPDAc",
        "outputId": "9a9fd1ab-c59c-4616-da1c-ac57291c27db"
      },
      "execution_count": 114,
      "outputs": [
        {
          "output_type": "stream",
          "name": "stdout",
          "text": [
            "NEGATIVE \n",
            "NEGATIVE \n",
            "POSITIVE \n",
            "POSITIVE \n",
            "NEGATIVE \n",
            "POSITIVE \n",
            "POSITIVE \n",
            "POSITIVE \n",
            "NEGATIVE \n",
            "NEGATIVE \n",
            "False\n"
          ]
        }
      ]
    },
    {
      "cell_type": "code",
      "source": [
        "names=['Lucas','Pedro','Juan']\n",
        "\n",
        "\n",
        "\n",
        "def greetings(name,flag):\n",
        "  if flag==True:\n",
        "    print('Hello, {}'.format(name))\n",
        "  else:\n",
        "    print('Hello!')\n",
        "\n",
        "\n",
        "for name in names:\n",
        "  greetings(name, random.choice([True,False]))"
      ],
      "metadata": {
        "colab": {
          "base_uri": "https://localhost:8080/"
        },
        "id": "bJUpxOMtRk51",
        "outputId": "e0f5baa4-5277-4b7e-e0e7-61b78582d757"
      },
      "execution_count": 117,
      "outputs": [
        {
          "output_type": "stream",
          "name": "stdout",
          "text": [
            "Hello, Lucas\n",
            "Hello, Pedro\n",
            "Hello!\n"
          ]
        }
      ]
    },
    {
      "cell_type": "code",
      "source": [
        "#CLASSES\n",
        "# Because Python is an object-oriented programming (OOP) language, everything in it represents an object.\n",
        "# Lists, tuples, sets, dictionaries, functions, etc. are all examples of Python objects.\n",
        "\n",
        "#DEFINING CLASSES IN PYTHON\n",
        "class myClass:\n",
        "  'this is a new class'\n",
        "\n",
        "  pass\n",
        "\n",
        "print(type(myClass))\n",
        "\n",
        "# In general, when defining a new class, we also create a new class object\n",
        "# that contains all the attributes (variables and methods) related to that class.\n",
        "# To access a class attribute, use the dot (.) operator:\n",
        "object (instance)"
      ],
      "metadata": {
        "colab": {
          "base_uri": "https://localhost:8080/"
        },
        "id": "7bAmqA0_SqBj",
        "outputId": "f6e75121-7469-4a5d-fe64-3a42cb6a9231"
      },
      "execution_count": 119,
      "outputs": [
        {
          "output_type": "stream",
          "name": "stdout",
          "text": [
            "<class 'type'>\n"
          ]
        }
      ]
    },
    {
      "cell_type": "code",
      "source": [
        "class Greeter(object):\n",
        "  #INSTANCE VARIABLE\n",
        "  def __init__(self, name):\n",
        "    self.name=name\n",
        "\n",
        "  #INSTANCE METHODS\n",
        "  def greetings(self,loud=False):\n",
        "    if loud:\n",
        "      print('HELLO,{}'.format(self.name.upper()))\n",
        "    else:\n",
        "      print('Hello, %s'%self.name)\n",
        "\n",
        "\n",
        "name1=Greeter('César')\n",
        "name1.greetings()\n",
        "name1.greetings(True)\n",
        "\n"
      ],
      "metadata": {
        "colab": {
          "base_uri": "https://localhost:8080/"
        },
        "id": "xLW3yZaPboON",
        "outputId": "6b0a772e-2a48-41d2-df8a-f1eaaca5cbb6"
      },
      "execution_count": 120,
      "outputs": [
        {
          "output_type": "stream",
          "name": "stdout",
          "text": [
            "Hello, César\n",
            "HELLO,CÉSAR\n"
          ]
        }
      ]
    }
  ]
}