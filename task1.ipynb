{
  "nbformat": 4,
  "nbformat_minor": 0,
  "metadata": {
    "colab": {
      "provenance": [],
      "authorship_tag": "ABX9TyN63EMrcWr7AI2SfhDnn1aO",
      "include_colab_link": true
    },
    "kernelspec": {
      "name": "python3",
      "display_name": "Python 3"
    },
    "language_info": {
      "name": "python"
    }
  },
  "cells": [
    {
      "cell_type": "markdown",
      "metadata": {
        "id": "view-in-github",
        "colab_type": "text"
      },
      "source": [
        "<a href=\"https://colab.research.google.com/github/Sinchiguano/ai2023_2/blob/main/task1.ipynb\" target=\"_parent\"><img src=\"https://colab.research.google.com/assets/colab-badge.svg\" alt=\"Open In Colab\"/></a>"
      ]
    },
    {
      "cell_type": "code",
      "execution_count": 8,
      "metadata": {
        "colab": {
          "base_uri": "https://localhost:8080/"
        },
        "id": "noOShP8JGOf8",
        "outputId": "6c670389-c5b9-4cf7-9345-431b0bc2174f"
      },
      "outputs": [
        {
          "output_type": "stream",
          "name": "stdout",
          "text": [
            "<class 'dict'>\n",
            "key cat, value cute\n",
            "key cat, value cute\n",
            "the key is: cat and the value: cute\n",
            "key dog, value fat\n",
            "key dog, value fat\n",
            "the key is: dog and the value: fat\n",
            "key lion, value strong\n",
            "key lion, value strong\n",
            "the key is: lion and the value: strong\n",
            "--------------------\n",
            "{'cat': 'cute', 'dog': 'fat', 'lion': 'strong', 'monkey': 'so cute'}\n"
          ]
        }
      ],
      "source": [
        "myDictionary={'cat':'cute','dog':'fat','lion':'strong'}\n",
        "\n",
        "\n",
        "print(type(myDictionary))\n",
        "\n",
        "for key, value in myDictionary.items():\n",
        "  print(f'key {key}, value {value}')\n",
        "  print('key %s, value %s'%(key,value))\n",
        "  print('the key is: {} and the value: {}'.format(key, value))\n",
        "myDictionary['monkey']='so cute'\n",
        "\n",
        "print('--------------------')\n",
        "print(myDictionary)"
      ]
    }
  ]
}